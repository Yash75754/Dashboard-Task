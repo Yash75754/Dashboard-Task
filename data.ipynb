{
 "cells": [
  {
   "cell_type": "code",
   "execution_count": 1,
   "id": "d0e93ff2-ddee-4903-9de2-14fe45be65e1",
   "metadata": {},
   "outputs": [],
   "source": [
    "import pandas as pd\n",
    "import numpy as np\n",
    "import matplotlib.pyplot as plt\n",
    "import seaborn as sns"
   ]
  },
  {
   "cell_type": "code",
   "execution_count": 2,
   "id": "87ed7e7b-3da3-4008-8843-d8e1cf501600",
   "metadata": {},
   "outputs": [],
   "source": [
    "customers = pd.read_csv('customers.csv')\n",
    "offers = pd.read_csv('offers.csv')\n",
    "data_dict = pd.read_csv('data_dictionary.csv')\n",
    "event_dict = pd.read_csv('events.csv')"
   ]
  },
  {
   "cell_type": "code",
   "execution_count": 3,
   "id": "e9b00a13-85a6-4ca4-ba39-fcfb73cf447e",
   "metadata": {},
   "outputs": [
    {
     "name": "stdout",
     "output_type": "stream",
     "text": [
      "Customers Data:\n",
      "                         customer_id  became_member_on gender  age    income\n",
      "0  68be06ca386d4c31939f3a4f0e3dd783          20170212    NaN  118       NaN\n",
      "1  0610b486422d4921ae7d2bf64640c50b          20170715      F   55  112000.0\n",
      "2  38fe809add3b4fcf9315a9694bb96ff5          20180712    NaN  118       NaN\n",
      "3  78afa995795e4d85b5d9ceeca43f5fef          20170509      F   75  100000.0\n",
      "4  a03223e636434f42ac4c3df47e8bac43          20170804    NaN  118       NaN\n",
      "Offers Data:\n",
      "                            offer_id     offer_type  difficulty  reward  \\\n",
      "0  ae264e3637204a6fb9bb56bc8210ddfd           bogo          10      10   \n",
      "1  4d5c57ea9a6940dd891ad53e9dbe8da0           bogo          10      10   \n",
      "2  3f207df678b143eea3cee63160fa8bed  informational           0       0   \n",
      "3  9b98b8c7a33c4b65b9aebfe6a799e6d9           bogo           5       5   \n",
      "4  0b1e1539f2cc45b7b9fa7c272da2e1d7       discount          20       5   \n",
      "\n",
      "   duration                              channels  \n",
      "0         7         ['email', 'mobile', 'social']  \n",
      "1         5  ['web', 'email', 'mobile', 'social']  \n",
      "2         4            ['web', 'email', 'mobile']  \n",
      "3         7            ['web', 'email', 'mobile']  \n",
      "4        10                      ['web', 'email']  \n",
      "Data Dictionary:\n",
      "     Table       Field                                        Description\n",
      "0  offers         NaN  Details on the offers sent to customers during...\n",
      "1  offers    offer_id                      Unique offer ID (primary key)\n",
      "2  offers  offer_type  type of offer: bogo (buy one, get one), discou...\n",
      "3  offers  difficulty  minimum amount required to spend in order to b...\n",
      "4  offers      reward  reward (in dollars) obtained by completing the...\n",
      "\n",
      "The 'events' DataFrame is not defined. Please make sure you have loaded it correctly.\n"
     ]
    }
   ],
   "source": [
    "print(\"Customers Data:\\n\", customers.head())\n",
    "print(\"Offers Data:\\n\", offers.head())\n",
    "print(\"Data Dictionary:\\n\", data_dict.head())\n",
    "try:\n",
    "    print(\"\\nEvents Data:\\n\", events.head())\n",
    "except NameError:\n",
    "    print(\"\\nThe 'events' DataFrame is not defined. Please make sure you have loaded it correctly.\")"
   ]
  },
  {
   "cell_type": "code",
   "execution_count": 4,
   "id": "a49dd149-f79c-42f2-9943-ffe5277d388d",
   "metadata": {},
   "outputs": [
    {
     "name": "stdout",
     "output_type": "stream",
     "text": [
      "Missing Values in Customers:\n",
      " customer_id            0\n",
      "became_member_on       0\n",
      "gender              2175\n",
      "age                    0\n",
      "income              2175\n",
      "dtype: int64\n",
      "Missing Values in Offers:\n",
      " offer_id      0\n",
      "offer_type    0\n",
      "difficulty    0\n",
      "reward        0\n",
      "duration      0\n",
      "channels      0\n",
      "dtype: int64\n"
     ]
    }
   ],
   "source": [
    "# Checking missing values\n",
    "print(\"Missing Values in Customers:\\n\", customers.isnull().sum())\n",
    "print(\"Missing Values in Offers:\\n\", offers.isnull().sum())"
   ]
  },
  {
   "cell_type": "code",
   "execution_count": 5,
   "id": "5727fefd-9759-42c1-8744-c3b7d3a84c87",
   "metadata": {},
   "outputs": [],
   "source": [
    "# Drop rows with too many missing values or fill them\n",
    "customers.dropna(inplace=True)\n",
    "offers.dropna(inplace=True)"
   ]
  },
  {
   "cell_type": "code",
   "execution_count": 6,
   "id": "a9337274-cb07-40b6-9c8a-77451ad8fc5b",
   "metadata": {},
   "outputs": [],
   "source": [
    "# Convert dates if available\n",
    "date_columns = ['Offer_Received_Date', 'Offer_Redeemed_Date']\n",
    "for col in date_columns:\n",
    "    if col in offers.columns:\n",
    "        offers[col] = pd.to_datetime(offers[col], errors='coerce')"
   ]
  },
  {
   "cell_type": "code",
   "execution_count": 7,
   "id": "d15a4285-5482-4e05-b6d1-8c94a393d8ff",
   "metadata": {},
   "outputs": [
    {
     "name": "stdout",
     "output_type": "stream",
     "text": [
      "customer_id          object\n",
      "became_member_on      int64\n",
      "gender               object\n",
      "age                   int64\n",
      "income              float64\n",
      "dtype: object\n",
      "offer_id      object\n",
      "offer_type    object\n",
      "difficulty     int64\n",
      "reward         int64\n",
      "duration       int64\n",
      "channels      object\n",
      "dtype: object\n"
     ]
    }
   ],
   "source": [
    "# Check datatypes and adjust if needed\n",
    "print(customers.dtypes)\n",
    "print(offers.dtypes)"
   ]
  },
  {
   "cell_type": "code",
   "execution_count": 8,
   "id": "9d92f05f-5638-48a2-90f5-dcc1b3756b72",
   "metadata": {},
   "outputs": [],
   "source": [
    "# Merge datasets for analysis\n",
    "if 'Customer_ID' in customers.columns and 'Customer_ID' in offers.columns:\n",
    "    df = pd.merge(offers, customers, on='Customer_ID', how='inner')\n",
    "else:\n",
    "    df = pd.concat([offers, customers], axis=1)"
   ]
  },
  {
   "cell_type": "code",
   "execution_count": 9,
   "id": "a512def0-33ea-4cd9-906f-ecbf31c8821c",
   "metadata": {},
   "outputs": [
    {
     "name": "stdout",
     "output_type": "stream",
     "text": [
      "Index(['customer_id', 'became_member_on', 'gender', 'age', 'income'], dtype='object')\n"
     ]
    }
   ],
   "source": [
    "print(customers.columns)\n"
   ]
  },
  {
   "cell_type": "code",
   "execution_count": 10,
   "id": "b09c3364-0661-4587-8ff9-e01607a1ffd3",
   "metadata": {},
   "outputs": [
    {
     "name": "stdout",
     "output_type": "stream",
     "text": [
      "Index(['Customer_Id', 'Became_Member_On', 'Gender', 'Age', 'Income'], dtype='object')\n"
     ]
    }
   ],
   "source": [
    "# Strip whitespace and convert to proper case\n",
    "customers.columns = customers.columns.str.strip().str.title()\n",
    "print(customers.columns)\n"
   ]
  },
  {
   "cell_type": "code",
   "execution_count": 11,
   "id": "c2e1a4bf-1217-4c87-aa01-3bc92a1f5a64",
   "metadata": {},
   "outputs": [
    {
     "data": {
      "image/png": "[encoded data removed]",
      "text/plain": [
       "<Figure size 640x480 with 1 Axes>"
      ]
     },
     "metadata": {},
     "output_type": "display_data"
    }
   ],
   "source": [
    "import seaborn as sns\n",
    "import matplotlib.pyplot as plt\n",
    "\n",
    "sns.countplot(x='Gender', data=customers)\n",
    "plt.title(\"Customer Gender Distribution\")\n",
    "plt.show()\n"
   ]
  },
  {
   "cell_type": "code",
   "execution_count": 12,
   "id": "02a9d902-78cf-4afc-b020-4de772564d9b",
   "metadata": {},
   "outputs": [
    {
     "data": {
      "image/png": "[encoded data removed]",
      "text/plain": [
       "<Figure size 640x480 with 1 Axes>"
      ]
     },
     "metadata": {},
     "output_type": "display_data"
    }
   ],
   "source": [
    "# Age distribution\n",
    "sns.histplot(customers['Age'], bins=20, kde=True)\n",
    "plt.title(\"Customer Age Distribution\")\n",
    "plt.xlabel(\"Age\")\n",
    "plt.show()"
   ]
  },
  {
   "cell_type": "code",
   "execution_count": 13,
   "id": "8790b404-b2ec-4f0c-a7dc-2178bd47598c",
   "metadata": {},
   "outputs": [
    {
     "name": "stdout",
     "output_type": "stream",
     "text": [
      "Index(['offer_id', 'offer_type', 'difficulty', 'reward', 'duration',\n",
      "       'channels'],\n",
      "      dtype='object')\n"
     ]
    }
   ],
   "source": [
    "print(offers.columns)\n"
   ]
  },
  {
   "cell_type": "code",
   "execution_count": 14,
   "id": "b0a315ca-2abb-45db-b188-b0225676af58",
   "metadata": {},
   "outputs": [
    {
     "name": "stdout",
     "output_type": "stream",
     "text": [
      "Index(['Offer_Id', 'Offer_Type', 'Difficulty', 'Reward', 'Duration',\n",
      "       'Channels'],\n",
      "      dtype='object')\n"
     ]
    }
   ],
   "source": [
    "offers.columns = offers.columns.str.strip().str.replace(\" \", \"_\").str.title()\n",
    "print(offers.columns)\n"
   ]
  },
  {
   "cell_type": "code",
   "execution_count": 15,
   "id": "5b6fcafe-0bc8-470a-91c7-5040dabe6573",
   "metadata": {},
   "outputs": [
    {
     "data": {
      "image/png": "[encoded data removed]",
      "text/plain": [
       "<Figure size 640x480 with 1 Axes>"
      ]
     },
     "metadata": {},
     "output_type": "display_data"
    }
   ],
   "source": [
    "sns.countplot(y='Offer_Type', data=offers)\n",
    "plt.title(\"Count of Different Offer Types\")\n",
    "plt.show()\n"
   ]
  },
  {
   "cell_type": "code",
   "execution_count": 16,
   "id": "4cf6b9a5-a3e9-4e98-a687-ddc0229532be",
   "metadata": {},
   "outputs": [
    {
     "data": {
      "image/png": "[encoded data removed]",
      "text/plain": [
       "<Figure size 640x480 with 1 Axes>"
      ]
     },
     "metadata": {},
     "output_type": "display_data"
    }
   ],
   "source": [
    "# Offer type count\n",
    "sns.countplot(y='Offer_Type', data=offers)\n",
    "plt.title(\"Count of Different Offer Types\")\n",
    "plt.show()\n"
   ]
  },
  {
   "cell_type": "code",
   "execution_count": 17,
   "id": "cc3c467a-1486-4742-86f7-61e34e9fffe8",
   "metadata": {},
   "outputs": [],
   "source": [
    "# Offers redeemed vs. not redeemed\n",
    "if 'Is_Redeemed' in offers.columns:\n",
    "    sns.countplot(x='Is_Redeemed', data=offers)\n",
    "    plt.title(\"Offer Redemption Rate\")\n",
    "    plt.xticks([0, 1], ['Not Redeemed', 'Redeemed'])\n",
    "    plt.show()"
   ]
  },
  {
   "cell_type": "code",
   "execution_count": 18,
   "id": "baf57897-0700-4b7f-a40e-61cec4e97ef2",
   "metadata": {},
   "outputs": [],
   "source": [
    "# Redemption rate by offer type\n",
    "if 'Is_Redeemed' in offers.columns:\n",
    "    redemption_rate = offers.groupby('Offer_Type')['Is_Redeemed'].mean().sort_values(ascending=False)\n",
    "    redemption_rate.plot(kind='bar', title='Redemption Rate by Offer Type', color='skyblue')\n",
    "    plt.ylabel(\"Redemption Rate\")\n",
    "    plt.show()"
   ]
  },
  {
   "cell_type": "code",
   "execution_count": 19,
   "id": "3b47f0c7-dccc-4c9e-b151-2a3f16428198",
   "metadata": {},
   "outputs": [],
   "source": [
    "# Average income of customers who redeemed offers\n",
    "if 'Income' in customers.columns and 'Is_Redeemed' in df.columns:\n",
    "    sns.boxplot(x='Is_Redeemed', y='Income', data=df)\n",
    "    plt.title(\"Income Distribution by Redemption Status\")\n",
    "    plt.xticks([0, 1], ['Not Redeemed', 'Redeemed'])\n",
    "    plt.show()"
   ]
  },
  {
   "cell_type": "code",
   "execution_count": 20,
   "id": "b3c29634-7e0b-404d-bf36-5d4325157812",
   "metadata": {},
   "outputs": [
    {
     "name": "stdout",
     "output_type": "stream",
     "text": [
      "['offer_id', 'offer_type', 'difficulty', 'reward', 'duration', 'channels', 'customer_id', 'became_member_on', 'gender', 'age', 'income']\n"
     ]
    }
   ],
   "source": [
    "print(df.columns.tolist())\n"
   ]
  },
  {
   "cell_type": "code",
   "execution_count": 21,
   "id": "cdc397fb-2784-4e12-8742-dfce23d8e88e",
   "metadata": {},
   "outputs": [
    {
     "name": "stdout",
     "output_type": "stream",
     "text": [
      "['Offer_Id', 'Offer_Type', 'Difficulty', 'Reward', 'Duration', 'Channels', 'Customer_Id', 'Became_Member_On', 'Gender', 'Age', 'Income']\n"
     ]
    }
   ],
   "source": [
    "df.columns = df.columns.str.strip().str.replace(\" \", \"_\").str.title()\n",
    "print(df.columns.tolist())  # Check again after cleaning\n"
   ]
  },
  {
   "cell_type": "code",
   "execution_count": 22,
   "id": "690372c0-ddde-4695-ab5c-8cf65c803a89",
   "metadata": {},
   "outputs": [
    {
     "name": "stdout",
     "output_type": "stream",
     "text": [
      "[]\n"
     ]
    }
   ],
   "source": [
    "print([col for col in df.columns if 'redeem' in col.lower()])\n"
   ]
  },
  {
   "cell_type": "code",
   "execution_count": 23,
   "id": "19def5ec-fdf6-4473-9fc0-5cc1d87de5b1",
   "metadata": {},
   "outputs": [
    {
     "name": "stdout",
     "output_type": "stream",
     "text": [
      "['Offer_Id', 'Offer_Type', 'Difficulty', 'Reward', 'Duration', 'Channels', 'Customer_Id', 'Became_Member_On', 'Gender', 'Age', 'Income']\n"
     ]
    }
   ],
   "source": [
    "print(df.columns.tolist())\n"
   ]
  },
  {
   "cell_type": "code",
   "execution_count": 24,
   "id": "04e0e81f-7f69-48d4-b188-bcd6a28bd916",
   "metadata": {},
   "outputs": [
    {
     "name": "stdout",
     "output_type": "stream",
     "text": [
      "['Offer_Id', 'Offer_Type', 'Difficulty', 'Reward', 'Duration', 'Channels', 'Customer_Id', 'Became_Member_On', 'Gender', 'Age', 'Income']\n"
     ]
    }
   ],
   "source": [
    "df.columns = df.columns.str.strip().str.replace(\" \", \"_\").str.title()\n",
    "print(df.columns.tolist())\n"
   ]
  },
  {
   "cell_type": "code",
   "execution_count": 25,
   "id": "f525a52f-992f-47cb-9b8f-5f6f07a214f1",
   "metadata": {},
   "outputs": [
    {
     "name": "stdout",
     "output_type": "stream",
     "text": [
      "[]\n"
     ]
    }
   ],
   "source": [
    "print([col for col in df.columns if 'redeem' in col.lower()])\n"
   ]
  },
  {
   "cell_type": "code",
   "execution_count": 26,
   "id": "5081f25a-6007-416d-b36f-a5e1a0a553aa",
   "metadata": {},
   "outputs": [
    {
     "name": "stdout",
     "output_type": "stream",
     "text": [
      "['Offer_Id', 'Offer_Type', 'Difficulty', 'Reward', 'Duration', 'Channels', 'Customer_Id', 'Became_Member_On', 'Gender', 'Age', 'Income']\n"
     ]
    }
   ],
   "source": [
    "import seaborn as sns\n",
    "import matplotlib.pyplot as plt\n",
    "\n",
    "# Clean columns (optional)\n",
    "df.columns = df.columns.str.strip().str.replace(\" \", \"_\").str.title()\n",
    "\n",
    "# Ensure the correct column names exist\n",
    "print(df.columns.tolist())  # Check this for 'Is_Redeemed' and 'Income'"
   ]
  },
  {
   "cell_type": "code",
   "execution_count": 27,
   "id": "a8da761f-4042-400c-8df6-403af2711a30",
   "metadata": {},
   "outputs": [
    {
     "name": "stdout",
     "output_type": "stream",
     "text": [
      "Either 'Is_Redeemed' or 'Income' column not found in DataFrame.\n"
     ]
    }
   ],
   "source": [
    "# Draw the boxplot\n",
    "if 'Is_Redeemed' in df.columns and 'Income' in df.columns:\n",
    "    sns.boxplot(x='Is_Redeemed', y='Income', data=df, palette='Set2')\n",
    "    plt.title(\"Income Distribution by Redemption Status\")\n",
    "    plt.xticks([0, 1], ['Not Redeemed', 'Redeemed'])\n",
    "    plt.xlabel(\"Redemption Status\")\n",
    "    plt.ylabel(\"Income\")\n",
    "    plt.tight_layout()\n",
    "    plt.show()\n",
    "else:\n",
    "    print(\"Either 'Is_Redeemed' or 'Income' column not found in DataFrame.\")"
   ]
  },
  {
   "cell_type": "code",
   "execution_count": 28,
   "id": "645221b8-533e-4406-8f1d-28afc48b4104",
   "metadata": {},
   "outputs": [],
   "source": [
    "# Offer channel engagement\n",
    "if 'Channel' in df.columns:\n",
    "    sns.countplot(data=df[df['Is_Redeemed'] == 1], x='Channel', order=df['Channel'].value_counts().index)\n",
    "    plt.title(\"Redemption Count by Offer Channel\")\n",
    "    plt.xticks(rotation=45)\n",
    "    plt.tight_layout()\n",
    "    plt.show()"
   ]
  },
  {
   "cell_type": "code",
   "execution_count": 29,
   "id": "83ed1158-e32c-4aaf-b097-3bf37b48b3f4",
   "metadata": {},
   "outputs": [],
   "source": [
    "# Redemption trend over time\n",
    "if 'Offer_Redeemed_Date' in df.columns:\n",
    "    df['Redeemed_Date'] = pd.to_datetime(df['Offer_Redeemed_Date'], errors='coerce')\n",
    "    monthly_redeemed = df[df['Is_Redeemed'] == 1].set_index('Redeemed_Date').resample('M').size()\n",
    "    monthly_redeemed.plot(title='Monthly Redemption Trend', marker='o', linestyle='--', color='green')\n",
    "    plt.ylabel(\"Redemptions\")\n",
    "    plt.xlabel(\"Month\")\n",
    "    plt.tight_layout()\n",
    "    plt.show()"
   ]
  },
  {
   "cell_type": "code",
   "execution_count": 30,
   "id": "24c263e0-3dfd-40c6-9cbe-e5df1640127d",
   "metadata": {},
   "outputs": [
    {
     "name": "stdout",
     "output_type": "stream",
     "text": [
      "['Offer_Id', 'Offer_Type', 'Difficulty', 'Reward', 'Duration', 'Channels', 'Customer_Id', 'Became_Member_On', 'Gender', 'Age', 'Income']\n"
     ]
    }
   ],
   "source": [
    "print(df.columns.tolist())\n"
   ]
  },
  {
   "cell_type": "code",
   "execution_count": 31,
   "id": "397843af-a86e-4f93-893a-6f0681f28634",
   "metadata": {},
   "outputs": [
    {
     "name": "stdout",
     "output_type": "stream",
     "text": [
      "['Offer_Id', 'Offer_Type', 'Difficulty', 'Reward', 'Duration', 'Channels', 'Customer_Id', 'Became_Member_On', 'Gender', 'Age', 'Income']\n"
     ]
    }
   ],
   "source": [
    "df.columns = df.columns.str.strip().str.replace(\" \", \"_\").str.title()\n",
    "print(df.columns.tolist())  # Recheck after cleaning\n"
   ]
  },
  {
   "cell_type": "code",
   "execution_count": 66,
   "id": "b1ac3a4f-f6f5-4d36-a7fd-016d8f8e8199",
   "metadata": {},
   "outputs": [],
   "source": [
    "# Save for Power BI / Tableau\n",
    "df.to_csv('cleaned_dashboard_data.csv', index=False)"
   ]
  },
  {
   "cell_type": "code",
   "execution_count": null,
   "id": "76aeee84-dd21-4909-8a06-ca068dc4b1ba",
   "metadata": {},
   "outputs": [],
   "source": []
  }
 ],
 "metadata": {
  "kernelspec": {
   "display_name": "Python [conda env:base] *",
   "language": "python",
   "name": "conda-base-py"
  },
  "language_info": {
   "codemirror_mode": {
    "name": "ipython",
    "version": 3
   },
   "file_extension": ".py",
   "mimetype": "text/x-python",
   "name": "python",
   "nbconvert_exporter": "python",
   "pygments_lexer": "ipython3",
   "version": "3.12.7"
  }
 },
 "nbformat": 4,
 "nbformat_minor": 5
}
